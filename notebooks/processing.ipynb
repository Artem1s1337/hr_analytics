{
 "cells": [
  {
   "cell_type": "markdown",
   "id": "50255a91",
   "metadata": {},
   "source": [
    "В этом ноутбуке я обработал данные вакансий для загрузки в базу данных и дальнейшего моделирования.\n",
    "Шаг обработки следующие:\n",
    "- ‌id — проверка и удаление дубликатов\n",
    "\n",
    "- name — привести к нижнему регистру, убрать стопслова, убрать грейды\n",
    "\n",
    "- city — убрать записи с лишними городами \n",
    "\n",
    "- salary — удалить слишком маленькие значения (=валюта не рубли), заполнить пустые значения from/to значениями to/from, добавление медианного значения (mid_salary)\n",
    "\n",
    "- employer — удалить строки с ИП и ФИО, НИЦ/НИИ/НТЦ привести к значению \"институты\", убрать из названий ГК/ООО/АО и т.д.\n",
    "\n",
    "- work_format — всё, что содержит \"гибрид\", заменить на гибрид, где remote — удалённо, on_site — в офисе, в остальных случаях, если есть field work, то удалить записи\n",
    "\n",
    "- experience — преобразовать, добавить фичу: нет опыта — intern/junior, 1-3 — jun+/middle, 3-6 — middle+/senior\n",
    "\n",
    "- key_skills — заполнить пропуски частотными навыками по группам"
   ]
  },
  {
   "cell_type": "markdown",
   "id": "2310ba12",
   "metadata": {},
   "source": [
    "# Базовая информация"
   ]
  },
  {
   "cell_type": "code",
   "execution_count": 568,
   "id": "41a36242",
   "metadata": {},
   "outputs": [],
   "source": [
    "# Импортируем библиотеки\n",
    "import numpy as np\n",
    "import pandas as pd\n",
    "from collections import Counter\n",
    "import re"
   ]
  },
  {
   "cell_type": "code",
   "execution_count": 569,
   "id": "9d323e00",
   "metadata": {},
   "outputs": [
    {
     "name": "stdout",
     "output_type": "stream",
     "text": [
      "<class 'pandas.core.frame.DataFrame'>\n",
      "RangeIndex: 2191 entries, 0 to 2190\n",
      "Data columns (total 11 columns):\n",
      " #   Column       Non-Null Count  Dtype  \n",
      "---  ------       --------------  -----  \n",
      " 0   id           2191 non-null   int64  \n",
      " 1   name         2191 non-null   object \n",
      " 2   group        2191 non-null   object \n",
      " 3   city         2191 non-null   object \n",
      " 4   salary_from  1690 non-null   float64\n",
      " 5   salary_to    1464 non-null   float64\n",
      " 6   employer     2191 non-null   object \n",
      " 7   work_format  2191 non-null   object \n",
      " 8   experience   2191 non-null   object \n",
      " 9   key_skills   2191 non-null   object \n",
      " 10  description  2191 non-null   object \n",
      "dtypes: float64(2), int64(1), object(8)\n",
      "memory usage: 188.4+ KB\n"
     ]
    }
   ],
   "source": [
    "# Загружаем сырые данные и выводим основную информацию\n",
    "cities = pd.read_excel(r'Z:\\Repos\\mlops2025\\hr_analytics\\data\\raw\\cities.xlsx')\n",
    "cities.info()"
   ]
  },
  {
   "cell_type": "code",
   "execution_count": 570,
   "id": "5ad563d6",
   "metadata": {},
   "outputs": [
    {
     "data": {
      "text/plain": [
       "(2191, 11)"
      ]
     },
     "execution_count": 570,
     "metadata": {},
     "output_type": "execute_result"
    }
   ],
   "source": [
    "cities.shape"
   ]
  },
  {
   "cell_type": "code",
   "execution_count": 571,
   "id": "21f9b752",
   "metadata": {},
   "outputs": [
    {
     "data": {
      "text/html": [
       "<div>\n",
       "<style scoped>\n",
       "    .dataframe tbody tr th:only-of-type {\n",
       "        vertical-align: middle;\n",
       "    }\n",
       "\n",
       "    .dataframe tbody tr th {\n",
       "        vertical-align: top;\n",
       "    }\n",
       "\n",
       "    .dataframe thead th {\n",
       "        text-align: right;\n",
       "    }\n",
       "</style>\n",
       "<table border=\"1\" class=\"dataframe\">\n",
       "  <thead>\n",
       "    <tr style=\"text-align: right;\">\n",
       "      <th></th>\n",
       "      <th>id</th>\n",
       "      <th>name</th>\n",
       "      <th>group</th>\n",
       "      <th>city</th>\n",
       "      <th>salary_from</th>\n",
       "      <th>salary_to</th>\n",
       "      <th>employer</th>\n",
       "      <th>work_format</th>\n",
       "      <th>experience</th>\n",
       "      <th>key_skills</th>\n",
       "      <th>description</th>\n",
       "    </tr>\n",
       "  </thead>\n",
       "  <tbody>\n",
       "    <tr>\n",
       "      <th>0</th>\n",
       "      <td>126298182</td>\n",
       "      <td>Системный/бизнес аналитик (стажер)</td>\n",
       "      <td>Системный аналитик</td>\n",
       "      <td>Казань</td>\n",
       "      <td>NaN</td>\n",
       "      <td>23200.0</td>\n",
       "      <td>ICL Services</td>\n",
       "      <td>['REMOTE']</td>\n",
       "      <td>Нет опыта</td>\n",
       "      <td>['Аналитическое мышление', 'Системный анализ',...</td>\n",
       "      <td>Мы – российская продуктово-сервисная ИТ-компан...</td>\n",
       "    </tr>\n",
       "    <tr>\n",
       "      <th>1</th>\n",
       "      <td>126267340</td>\n",
       "      <td>Разработчик</td>\n",
       "      <td>Программист, разработчик</td>\n",
       "      <td>Казань</td>\n",
       "      <td>175500.0</td>\n",
       "      <td>NaN</td>\n",
       "      <td>ТАТТЕЛЕКОМ</td>\n",
       "      <td>['ON_SITE']</td>\n",
       "      <td>От 1 года до 3 лет</td>\n",
       "      <td>[]</td>\n",
       "      <td>ПАО «Таттелеком» — один из ключевых операторов...</td>\n",
       "    </tr>\n",
       "    <tr>\n",
       "      <th>2</th>\n",
       "      <td>126319001</td>\n",
       "      <td>QA-инженер (senior)</td>\n",
       "      <td>Тестировщик</td>\n",
       "      <td>Казань</td>\n",
       "      <td>150000.0</td>\n",
       "      <td>170000.0</td>\n",
       "      <td>ГК Innostage</td>\n",
       "      <td>['REMOTE']</td>\n",
       "      <td>От 3 до 6 лет</td>\n",
       "      <td>['REST', 'SOAP', 'SQL', 'Git', 'Ручное тестиро...</td>\n",
       "      <td>Компания Innostage (Инностейдж) - IT компания,...</td>\n",
       "    </tr>\n",
       "    <tr>\n",
       "      <th>3</th>\n",
       "      <td>126271542</td>\n",
       "      <td>Дизайнер интерфейсов</td>\n",
       "      <td>Дизайнер, художник</td>\n",
       "      <td>Казань</td>\n",
       "      <td>140000.0</td>\n",
       "      <td>150000.0</td>\n",
       "      <td>Кинофлекс</td>\n",
       "      <td>['REMOTE']</td>\n",
       "      <td>От 1 года до 3 лет</td>\n",
       "      <td>['Figma', 'UI', 'UX']</td>\n",
       "      <td>Компания FLEX — это инновационный онлайн-кинот...</td>\n",
       "    </tr>\n",
       "    <tr>\n",
       "      <th>4</th>\n",
       "      <td>126243205</td>\n",
       "      <td>Junior Backend Engineer AI</td>\n",
       "      <td>Программист, разработчик</td>\n",
       "      <td>Казань</td>\n",
       "      <td>60000.0</td>\n",
       "      <td>80000.0</td>\n",
       "      <td>Первый Бит</td>\n",
       "      <td>[]</td>\n",
       "      <td>От 1 года до 3 лет</td>\n",
       "      <td>['Python', 'Docker', 'SQL', 'FastAPI']</td>\n",
       "      <td>Обязанности:  Поддержка и развитие чат-бота в ...</td>\n",
       "    </tr>\n",
       "  </tbody>\n",
       "</table>\n",
       "</div>"
      ],
      "text/plain": [
       "          id                                name                     group  \\\n",
       "0  126298182  Системный/бизнес аналитик (стажер)        Системный аналитик   \n",
       "1  126267340                         Разработчик  Программист, разработчик   \n",
       "2  126319001                 QA-инженер (senior)               Тестировщик   \n",
       "3  126271542                Дизайнер интерфейсов        Дизайнер, художник   \n",
       "4  126243205          Junior Backend Engineer AI  Программист, разработчик   \n",
       "\n",
       "     city  salary_from  salary_to      employer  work_format  \\\n",
       "0  Казань          NaN    23200.0  ICL Services   ['REMOTE']   \n",
       "1  Казань     175500.0        NaN    ТАТТЕЛЕКОМ  ['ON_SITE']   \n",
       "2  Казань     150000.0   170000.0  ГК Innostage   ['REMOTE']   \n",
       "3  Казань     140000.0   150000.0     Кинофлекс   ['REMOTE']   \n",
       "4  Казань      60000.0    80000.0    Первый Бит           []   \n",
       "\n",
       "           experience                                         key_skills  \\\n",
       "0           Нет опыта  ['Аналитическое мышление', 'Системный анализ',...   \n",
       "1  От 1 года до 3 лет                                                 []   \n",
       "2       От 3 до 6 лет  ['REST', 'SOAP', 'SQL', 'Git', 'Ручное тестиро...   \n",
       "3  От 1 года до 3 лет                              ['Figma', 'UI', 'UX']   \n",
       "4  От 1 года до 3 лет             ['Python', 'Docker', 'SQL', 'FastAPI']   \n",
       "\n",
       "                                         description  \n",
       "0  Мы – российская продуктово-сервисная ИТ-компан...  \n",
       "1  ПАО «Таттелеком» — один из ключевых операторов...  \n",
       "2  Компания Innostage (Инностейдж) - IT компания,...  \n",
       "3  Компания FLEX — это инновационный онлайн-кинот...  \n",
       "4  Обязанности:  Поддержка и развитие чат-бота в ...  "
      ]
     },
     "execution_count": 571,
     "metadata": {},
     "output_type": "execute_result"
    }
   ],
   "source": [
    "# Посмотрим на первые 5 строк\n",
    "cities.head()"
   ]
  },
  {
   "cell_type": "markdown",
   "id": "5cc6221a",
   "metadata": {},
   "source": [
    "# Обработка id"
   ]
  },
  {
   "cell_type": "code",
   "execution_count": 572,
   "id": "bb28f7c4",
   "metadata": {},
   "outputs": [
    {
     "data": {
      "text/plain": [
       "(50, 11)"
      ]
     },
     "execution_count": 572,
     "metadata": {},
     "output_type": "execute_result"
    }
   ],
   "source": [
    "# Проверим, нет ли повторяющихся вакансий\n",
    "# Если они есть, удалим их\n",
    "df_duplicates = cities[cities.duplicated(subset=['id'], keep=False)].sort_values(by='id')\n",
    "df_duplicates.shape  # 50 записей - дубликаты"
   ]
  },
  {
   "cell_type": "code",
   "execution_count": 573,
   "id": "7b4d5244",
   "metadata": {},
   "outputs": [
    {
     "data": {
      "text/plain": [
       "(2166, 11)"
      ]
     },
     "execution_count": 573,
     "metadata": {},
     "output_type": "execute_result"
    }
   ],
   "source": [
    "# Удалим дубликаты\n",
    "vacancies = cities.copy()  # работаем с копией данных\n",
    "vacancies.drop_duplicates(subset='id', keep='first', inplace=True)\n",
    "vacancies.shape"
   ]
  },
  {
   "cell_type": "markdown",
   "id": "5520fec9",
   "metadata": {},
   "source": [
    "# Обработка городов"
   ]
  },
  {
   "cell_type": "code",
   "execution_count": 574,
   "id": "685d052a",
   "metadata": {},
   "outputs": [
    {
     "data": {
      "text/plain": [
       "array(['Казань', 'Москва', 'Санкт-Петербург', 'Уфа', 'Екатеринбург',\n",
       "       'Краснодар', 'Новосибирск', 'Пермь', 'Тюмень', 'Ноябрьск',\n",
       "       'Челябинск', 'Первоуральск', 'Ревда (Свердловская область)',\n",
       "       'Академгородок (Новосибирская область)', 'Бердск', 'Сочи',\n",
       "       'Ломоносов', 'Белоостров', 'Колпино', 'Обнинск', 'Зеленоград',\n",
       "       'Жуковский  (Московская область)', 'Томск', 'Балаково', 'Оренбург',\n",
       "       'Дмитров (Московская область)', 'Лобня (Московская область)',\n",
       "       'Самара', 'Курск', 'Воронеж', 'Тверь'], dtype=object)"
      ]
     },
     "execution_count": 574,
     "metadata": {},
     "output_type": "execute_result"
    }
   ],
   "source": [
    "# Проверим, нет ли лишних городов\n",
    "vacancies['city'].unique()"
   ]
  },
  {
   "cell_type": "code",
   "execution_count": 575,
   "id": "edbd2b20",
   "metadata": {},
   "outputs": [
    {
     "data": {
      "text/plain": [
       "array(['Казань', 'Москва', 'Санкт-Петербург', 'Екатеринбург',\n",
       "       'Новосибирск'], dtype=object)"
      ]
     },
     "execution_count": 575,
     "metadata": {},
     "output_type": "execute_result"
    }
   ],
   "source": [
    "# Удалим записи с лишними городами\n",
    "city_list = ['Москва', 'Санкт-Петербург', 'Казань', 'Новосибирск', 'Екатеринбург']\n",
    "vacancies = vacancies[vacancies['city'].isin(city_list)].reset_index(drop=True)\n",
    "\n",
    "# Проверка городов\n",
    "vacancies['city'].unique()\n"
   ]
  },
  {
   "cell_type": "markdown",
   "id": "93fe91b3",
   "metadata": {},
   "source": [
    "# Обработка зарплат"
   ]
  },
  {
   "cell_type": "code",
   "execution_count": 576,
   "id": "d1902597",
   "metadata": {},
   "outputs": [
    {
     "data": {
      "text/html": [
       "<div>\n",
       "<style scoped>\n",
       "    .dataframe tbody tr th:only-of-type {\n",
       "        vertical-align: middle;\n",
       "    }\n",
       "\n",
       "    .dataframe tbody tr th {\n",
       "        vertical-align: top;\n",
       "    }\n",
       "\n",
       "    .dataframe thead th {\n",
       "        text-align: right;\n",
       "    }\n",
       "</style>\n",
       "<table border=\"1\" class=\"dataframe\">\n",
       "  <thead>\n",
       "    <tr style=\"text-align: right;\">\n",
       "      <th></th>\n",
       "      <th>id</th>\n",
       "      <th>name</th>\n",
       "      <th>group</th>\n",
       "      <th>city</th>\n",
       "      <th>salary_from</th>\n",
       "      <th>salary_to</th>\n",
       "      <th>mid_salary</th>\n",
       "      <th>employer</th>\n",
       "      <th>work_format</th>\n",
       "      <th>experience</th>\n",
       "      <th>key_skills</th>\n",
       "      <th>description</th>\n",
       "    </tr>\n",
       "  </thead>\n",
       "  <tbody>\n",
       "    <tr>\n",
       "      <th>0</th>\n",
       "      <td>126298182</td>\n",
       "      <td>Системный/бизнес аналитик (стажер)</td>\n",
       "      <td>Системный аналитик</td>\n",
       "      <td>Казань</td>\n",
       "      <td>23200.0</td>\n",
       "      <td>23200.0</td>\n",
       "      <td>23200.0</td>\n",
       "      <td>ICL Services</td>\n",
       "      <td>['REMOTE']</td>\n",
       "      <td>Нет опыта</td>\n",
       "      <td>['Аналитическое мышление', 'Системный анализ',...</td>\n",
       "      <td>Мы – российская продуктово-сервисная ИТ-компан...</td>\n",
       "    </tr>\n",
       "    <tr>\n",
       "      <th>1</th>\n",
       "      <td>126267340</td>\n",
       "      <td>Разработчик</td>\n",
       "      <td>Программист, разработчик</td>\n",
       "      <td>Казань</td>\n",
       "      <td>175500.0</td>\n",
       "      <td>175500.0</td>\n",
       "      <td>175500.0</td>\n",
       "      <td>ТАТТЕЛЕКОМ</td>\n",
       "      <td>['ON_SITE']</td>\n",
       "      <td>От 1 года до 3 лет</td>\n",
       "      <td>[]</td>\n",
       "      <td>ПАО «Таттелеком» — один из ключевых операторов...</td>\n",
       "    </tr>\n",
       "    <tr>\n",
       "      <th>2</th>\n",
       "      <td>126319001</td>\n",
       "      <td>QA-инженер (senior)</td>\n",
       "      <td>Тестировщик</td>\n",
       "      <td>Казань</td>\n",
       "      <td>150000.0</td>\n",
       "      <td>170000.0</td>\n",
       "      <td>160000.0</td>\n",
       "      <td>ГК Innostage</td>\n",
       "      <td>['REMOTE']</td>\n",
       "      <td>От 3 до 6 лет</td>\n",
       "      <td>['REST', 'SOAP', 'SQL', 'Git', 'Ручное тестиро...</td>\n",
       "      <td>Компания Innostage (Инностейдж) - IT компания,...</td>\n",
       "    </tr>\n",
       "    <tr>\n",
       "      <th>3</th>\n",
       "      <td>126271542</td>\n",
       "      <td>Дизайнер интерфейсов</td>\n",
       "      <td>Дизайнер, художник</td>\n",
       "      <td>Казань</td>\n",
       "      <td>140000.0</td>\n",
       "      <td>150000.0</td>\n",
       "      <td>145000.0</td>\n",
       "      <td>Кинофлекс</td>\n",
       "      <td>['REMOTE']</td>\n",
       "      <td>От 1 года до 3 лет</td>\n",
       "      <td>['Figma', 'UI', 'UX']</td>\n",
       "      <td>Компания FLEX — это инновационный онлайн-кинот...</td>\n",
       "    </tr>\n",
       "    <tr>\n",
       "      <th>4</th>\n",
       "      <td>126243205</td>\n",
       "      <td>Junior Backend Engineer AI</td>\n",
       "      <td>Программист, разработчик</td>\n",
       "      <td>Казань</td>\n",
       "      <td>60000.0</td>\n",
       "      <td>80000.0</td>\n",
       "      <td>70000.0</td>\n",
       "      <td>Первый Бит</td>\n",
       "      <td>[]</td>\n",
       "      <td>От 1 года до 3 лет</td>\n",
       "      <td>['Python', 'Docker', 'SQL', 'FastAPI']</td>\n",
       "      <td>Обязанности:  Поддержка и развитие чат-бота в ...</td>\n",
       "    </tr>\n",
       "  </tbody>\n",
       "</table>\n",
       "</div>"
      ],
      "text/plain": [
       "          id                                name                     group  \\\n",
       "0  126298182  Системный/бизнес аналитик (стажер)        Системный аналитик   \n",
       "1  126267340                         Разработчик  Программист, разработчик   \n",
       "2  126319001                 QA-инженер (senior)               Тестировщик   \n",
       "3  126271542                Дизайнер интерфейсов        Дизайнер, художник   \n",
       "4  126243205          Junior Backend Engineer AI  Программист, разработчик   \n",
       "\n",
       "     city  salary_from  salary_to  mid_salary      employer  work_format  \\\n",
       "0  Казань      23200.0    23200.0     23200.0  ICL Services   ['REMOTE']   \n",
       "1  Казань     175500.0   175500.0    175500.0    ТАТТЕЛЕКОМ  ['ON_SITE']   \n",
       "2  Казань     150000.0   170000.0    160000.0  ГК Innostage   ['REMOTE']   \n",
       "3  Казань     140000.0   150000.0    145000.0     Кинофлекс   ['REMOTE']   \n",
       "4  Казань      60000.0    80000.0     70000.0    Первый Бит           []   \n",
       "\n",
       "           experience                                         key_skills  \\\n",
       "0           Нет опыта  ['Аналитическое мышление', 'Системный анализ',...   \n",
       "1  От 1 года до 3 лет                                                 []   \n",
       "2       От 3 до 6 лет  ['REST', 'SOAP', 'SQL', 'Git', 'Ручное тестиро...   \n",
       "3  От 1 года до 3 лет                              ['Figma', 'UI', 'UX']   \n",
       "4  От 1 года до 3 лет             ['Python', 'Docker', 'SQL', 'FastAPI']   \n",
       "\n",
       "                                         description  \n",
       "0  Мы – российская продуктово-сервисная ИТ-компан...  \n",
       "1  ПАО «Таттелеком» — один из ключевых операторов...  \n",
       "2  Компания Innostage (Инностейдж) - IT компания,...  \n",
       "3  Компания FLEX — это инновационный онлайн-кинот...  \n",
       "4  Обязанности:  Поддержка и развитие чат-бота в ...  "
      ]
     },
     "execution_count": 576,
     "metadata": {},
     "output_type": "execute_result"
    }
   ],
   "source": [
    "# Заполним пустые значения from и to значениями to и from\n",
    "\n",
    "# Заполняем нижнюю границу верхней, если поле пустое\n",
    "vacancies['salary_from'] = vacancies['salary_from'].fillna(vacancies['salary_to'])\n",
    "\n",
    "# То же самое с верхней границей\n",
    "vacancies['salary_to'] = vacancies['salary_to'].fillna(vacancies['salary_from'])\n",
    "\n",
    "# Заполняем медианой новый столбец: средним списка из двух\n",
    "vacancies['mid_salary'] = np.median([vacancies['salary_from'], vacancies['salary_to']], axis=0)\n",
    "\n",
    "# Перегруппируем столбцы для лучшего отображения\n",
    "cols = vacancies.columns.to_list()\n",
    "vac = vacancies[['id',\n",
    "           'name',\n",
    "           'group',\n",
    "           'city',\n",
    "           'salary_from',\n",
    "           'salary_to',\n",
    "           'mid_salary',\n",
    "           'employer',\n",
    "           'work_format',\n",
    "           'experience',\n",
    "           'key_skills',\n",
    "           'description',\n",
    "           ]]\n",
    "\n",
    "vac.head()"
   ]
  },
  {
   "cell_type": "code",
   "execution_count": 577,
   "id": "7a981b8e",
   "metadata": {},
   "outputs": [
    {
     "data": {
      "text/plain": [
       "(2129, 12)"
      ]
     },
     "execution_count": 577,
     "metadata": {},
     "output_type": "execute_result"
    }
   ],
   "source": [
    "vac.shape"
   ]
  },
  {
   "cell_type": "code",
   "execution_count": 578,
   "id": "9a8fb8e2",
   "metadata": {},
   "outputs": [
    {
     "data": {
      "text/plain": [
       "(2077, 12)"
      ]
     },
     "execution_count": 578,
     "metadata": {},
     "output_type": "execute_result"
    }
   ],
   "source": [
    "# Удалим значения со слишком малыми значениями\n",
    "vac = vac[vac['mid_salary'] > 10000]\n",
    "vac.shape"
   ]
  },
  {
   "cell_type": "markdown",
   "id": "206a4caf",
   "metadata": {},
   "source": [
    "# Обработка работодателя"
   ]
  },
  {
   "cell_type": "code",
   "execution_count": 579,
   "id": "528bd5f7",
   "metadata": {},
   "outputs": [],
   "source": [
    "pd.set_option('display.max_rows', None)"
   ]
  },
  {
   "cell_type": "code",
   "execution_count": 581,
   "id": "04ac0bbf",
   "metadata": {},
   "outputs": [],
   "source": [
    "# Обработаем столбец с работодателями\n",
    "\n",
    "vac['employer'] = vac['employer'].str.lower()\n",
    "\n",
    "# Унифицируем научные предприятия\n",
    "pat_science = r\"НПЦ|НИИ|НТЦ|НПО|научно-производственное объединение|НПК|Научно-Исследовательский Институт|ВНИИ|НПП|НИЦ|лаборатория|научно-производственное предприятие|информационный центр|нтпц\".lower()\n",
    "vac['employer'] = vac['employer'].where(~vac['employer'].str.contains(pat_science, case=False, na=False), \"научные предприятия\")\n",
    "\n",
    "# Унифицируем государственные предприятия\n",
    "pat_state = r\"ФКУ|ФГАНУ|ФГУП|ФГБУ|Городской информационный центр|Республики|Филиал|гку|оцрв|ано|фбу|гбу|офд\".lower()\n",
    "vac['employer'] = vac['employer'].where(~vac['employer'].str.contains(pat_state, case=False, na=False), \"госкорпорация\")\n",
    "vac['employer'] = vac['employer'].str.replace(r\"\\([^)]*\\)\", \"\", regex=True)  # удаляем скобки, и всё, что внутри\n",
    "vac['employer'] = vac['employer'].str.replace(r\",.*$\", \"\", regex=True)  # удаляем всё, что идёт после запятой\n",
    "\n",
    "# Обрабатываем сбер и газпром\n",
    "vac['employer'] = vac['employer'].where(~vac['employer'].str.contains('газпром'), 'газпром')\n",
    "vac['employer'] = vac['employer'].where(~vac['employer'].str.contains('сбер') & ~vac['employer'].str.contains('sber'), 'сбер')\n",
    "\n",
    "# Обрабатываем значения после специальных символов: / и |\n",
    "vac['employer'] = vac['employer'].str.replace(r\"/.*$\", \"\", regex=True)\n",
    "vac['employer'] = vac['employer'].str.replace(r\"\\|.*$\", \"\", regex=True)\n",
    "\n",
    "# Обработаем ещё несколько неинформативных частей названий\n",
    "vac['employer'] = vac['employer'].str.replace(\"llc\", \"\")\n",
    "vac['employer'] = vac['employer'].str.replace(\"ltd.\", \"\")\n",
    "vac['employer'] = vac['employer'].str.replace(\"pte.\", \"\")\n",
    "vac['employer'] = vac['employer'].str.replace(\"ао \", \"\")\n",
    "vac['employer'] = vac['employer'].str.replace(\"гк\", \"\")\n",
    "vac['employer'] = vac['employer'].str.replace(\"llc\", \"\")\n",
    "vac = vac.drop(index=[391, 746, 1307, 1455, 1491])\n",
    "\n",
    "# Обрабатываем вакансии, где работодатель - фио, а не компания\n",
    "name_list = [\n",
    "    'мухин дмитрий сергеевич',\n",
    "    'чепурин алексей владимирович',\n",
    "    'дрынкин андрей александрович',\n",
    "    'сизинцев роман александрович',\n",
    "    'колпаков денис викторович',\n",
    "    'лебедев роман игоревич',\n",
    "    'токарева александра маратовна',\n",
    "    'буров алексей константинович',\n",
    "    'харламов денис сергеевич',\n",
    "    'бабаян денис маркович',\n",
    "    'шиховец александр викторович',\n",
    "    'росляков никита александрович',\n",
    "    'коваленко юрий николаевич',\n",
    "    'мамедов эльдар юнисович',\n",
    "    'бордаковский антон робертович',\n",
    "]\n",
    "vac = vac[~vac['employer'].isin(name_list)]\n",
    "\n",
    "# В конце на всякий случай чистим лишние пробелы\n",
    "vac['employer'] = vac['employer'].str.strip()"
   ]
  },
  {
   "cell_type": "code",
   "execution_count": 583,
   "id": "4607ddb3",
   "metadata": {},
   "outputs": [
    {
     "data": {
      "text/plain": [
       "(2056, 12)"
      ]
     },
     "execution_count": 583,
     "metadata": {},
     "output_type": "execute_result"
    }
   ],
   "source": [
    "vac.shape"
   ]
  },
  {
   "cell_type": "markdown",
   "id": "4771767c",
   "metadata": {},
   "source": [
    "# Обработка рабочего формата"
   ]
  },
  {
   "cell_type": "code",
   "execution_count": 584,
   "id": "371571c4",
   "metadata": {},
   "outputs": [
    {
     "data": {
      "text/plain": [
       "['REMOTE']"
      ]
     },
     "execution_count": 584,
     "metadata": {},
     "output_type": "execute_result"
    }
   ],
   "source": [
    "import ast  # приведём навыки к списку\n",
    "\n",
    "def work_format_type(text):\n",
    "    try:\n",
    "        return ast.literal_eval(text)\n",
    "    except (ValueError, SyntaxError):\n",
    "        return []\n",
    "\n",
    "vac['work_format'] = vac['work_format'].apply(work_format_type)\n",
    "vac['work_format'].iloc[0]"
   ]
  },
  {
   "cell_type": "code",
   "execution_count": 585,
   "id": "d3b02a85",
   "metadata": {},
   "outputs": [
    {
     "data": {
      "text/plain": [
       "work_format\n",
       "[REMOTE]                                 717\n",
       "[ON_SITE]                                512\n",
       "[]                                       203\n",
       "[ON_SITE, HYBRID]                        177\n",
       "[ON_SITE, REMOTE, HYBRID]                150\n",
       "[HYBRID]                                 125\n",
       "[REMOTE, HYBRID]                          89\n",
       "[FIELD_WORK]                              22\n",
       "[ON_SITE, REMOTE]                         21\n",
       "[ON_SITE, FIELD_WORK]                     21\n",
       "[ON_SITE, HYBRID, FIELD_WORK]              7\n",
       "[HYBRID, FIELD_WORK]                       6\n",
       "[ON_SITE, REMOTE, HYBRID, FIELD_WORK]      3\n",
       "[REMOTE, FIELD_WORK]                       2\n",
       "[REMOTE, HYBRID, FIELD_WORK]               1\n",
       "Name: count, dtype: int64"
      ]
     },
     "execution_count": 585,
     "metadata": {},
     "output_type": "execute_result"
    }
   ],
   "source": [
    "vac['work_format'].value_counts()"
   ]
  },
  {
   "cell_type": "code",
   "execution_count": 586,
   "id": "9747a5cb",
   "metadata": {},
   "outputs": [
    {
     "data": {
      "text/html": [
       "<div>\n",
       "<style scoped>\n",
       "    .dataframe tbody tr th:only-of-type {\n",
       "        vertical-align: middle;\n",
       "    }\n",
       "\n",
       "    .dataframe tbody tr th {\n",
       "        vertical-align: top;\n",
       "    }\n",
       "\n",
       "    .dataframe thead th {\n",
       "        text-align: right;\n",
       "    }\n",
       "</style>\n",
       "<table border=\"1\" class=\"dataframe\">\n",
       "  <thead>\n",
       "    <tr style=\"text-align: right;\">\n",
       "      <th></th>\n",
       "      <th>id</th>\n",
       "      <th>name</th>\n",
       "      <th>group</th>\n",
       "      <th>city</th>\n",
       "      <th>salary_from</th>\n",
       "      <th>salary_to</th>\n",
       "      <th>mid_salary</th>\n",
       "      <th>employer</th>\n",
       "      <th>work_format</th>\n",
       "      <th>experience</th>\n",
       "      <th>key_skills</th>\n",
       "      <th>description</th>\n",
       "    </tr>\n",
       "  </thead>\n",
       "  <tbody>\n",
       "    <tr>\n",
       "      <th>0</th>\n",
       "      <td>126298182</td>\n",
       "      <td>Системный/бизнес аналитик (стажер)</td>\n",
       "      <td>Системный аналитик</td>\n",
       "      <td>Казань</td>\n",
       "      <td>23200.0</td>\n",
       "      <td>23200.0</td>\n",
       "      <td>23200.0</td>\n",
       "      <td>icl services</td>\n",
       "      <td>[REMOTE]</td>\n",
       "      <td>Нет опыта</td>\n",
       "      <td>['Аналитическое мышление', 'Системный анализ',...</td>\n",
       "      <td>Мы – российская продуктово-сервисная ИТ-компан...</td>\n",
       "    </tr>\n",
       "    <tr>\n",
       "      <th>1</th>\n",
       "      <td>126267340</td>\n",
       "      <td>Разработчик</td>\n",
       "      <td>Программист, разработчик</td>\n",
       "      <td>Казань</td>\n",
       "      <td>175500.0</td>\n",
       "      <td>175500.0</td>\n",
       "      <td>175500.0</td>\n",
       "      <td>таттелеком</td>\n",
       "      <td>[ON_SITE]</td>\n",
       "      <td>От 1 года до 3 лет</td>\n",
       "      <td>[]</td>\n",
       "      <td>ПАО «Таттелеком» — один из ключевых операторов...</td>\n",
       "    </tr>\n",
       "    <tr>\n",
       "      <th>2</th>\n",
       "      <td>126319001</td>\n",
       "      <td>QA-инженер (senior)</td>\n",
       "      <td>Тестировщик</td>\n",
       "      <td>Казань</td>\n",
       "      <td>150000.0</td>\n",
       "      <td>170000.0</td>\n",
       "      <td>160000.0</td>\n",
       "      <td>innostage</td>\n",
       "      <td>[REMOTE]</td>\n",
       "      <td>От 3 до 6 лет</td>\n",
       "      <td>['REST', 'SOAP', 'SQL', 'Git', 'Ручное тестиро...</td>\n",
       "      <td>Компания Innostage (Инностейдж) - IT компания,...</td>\n",
       "    </tr>\n",
       "    <tr>\n",
       "      <th>3</th>\n",
       "      <td>126271542</td>\n",
       "      <td>Дизайнер интерфейсов</td>\n",
       "      <td>Дизайнер, художник</td>\n",
       "      <td>Казань</td>\n",
       "      <td>140000.0</td>\n",
       "      <td>150000.0</td>\n",
       "      <td>145000.0</td>\n",
       "      <td>кинофлекс</td>\n",
       "      <td>[REMOTE]</td>\n",
       "      <td>От 1 года до 3 лет</td>\n",
       "      <td>['Figma', 'UI', 'UX']</td>\n",
       "      <td>Компания FLEX — это инновационный онлайн-кинот...</td>\n",
       "    </tr>\n",
       "    <tr>\n",
       "      <th>4</th>\n",
       "      <td>126243205</td>\n",
       "      <td>Junior Backend Engineer AI</td>\n",
       "      <td>Программист, разработчик</td>\n",
       "      <td>Казань</td>\n",
       "      <td>60000.0</td>\n",
       "      <td>80000.0</td>\n",
       "      <td>70000.0</td>\n",
       "      <td>первый бит</td>\n",
       "      <td>[]</td>\n",
       "      <td>От 1 года до 3 лет</td>\n",
       "      <td>['Python', 'Docker', 'SQL', 'FastAPI']</td>\n",
       "      <td>Обязанности:  Поддержка и развитие чат-бота в ...</td>\n",
       "    </tr>\n",
       "  </tbody>\n",
       "</table>\n",
       "</div>"
      ],
      "text/plain": [
       "          id                                name                     group  \\\n",
       "0  126298182  Системный/бизнес аналитик (стажер)        Системный аналитик   \n",
       "1  126267340                         Разработчик  Программист, разработчик   \n",
       "2  126319001                 QA-инженер (senior)               Тестировщик   \n",
       "3  126271542                Дизайнер интерфейсов        Дизайнер, художник   \n",
       "4  126243205          Junior Backend Engineer AI  Программист, разработчик   \n",
       "\n",
       "     city  salary_from  salary_to  mid_salary      employer work_format  \\\n",
       "0  Казань      23200.0    23200.0     23200.0  icl services    [REMOTE]   \n",
       "1  Казань     175500.0   175500.0    175500.0    таттелеком   [ON_SITE]   \n",
       "2  Казань     150000.0   170000.0    160000.0     innostage    [REMOTE]   \n",
       "3  Казань     140000.0   150000.0    145000.0     кинофлекс    [REMOTE]   \n",
       "4  Казань      60000.0    80000.0     70000.0    первый бит          []   \n",
       "\n",
       "           experience                                         key_skills  \\\n",
       "0           Нет опыта  ['Аналитическое мышление', 'Системный анализ',...   \n",
       "1  От 1 года до 3 лет                                                 []   \n",
       "2       От 3 до 6 лет  ['REST', 'SOAP', 'SQL', 'Git', 'Ручное тестиро...   \n",
       "3  От 1 года до 3 лет                              ['Figma', 'UI', 'UX']   \n",
       "4  От 1 года до 3 лет             ['Python', 'Docker', 'SQL', 'FastAPI']   \n",
       "\n",
       "                                         description  \n",
       "0  Мы – российская продуктово-сервисная ИТ-компан...  \n",
       "1  ПАО «Таттелеком» — один из ключевых операторов...  \n",
       "2  Компания Innostage (Инностейдж) - IT компания,...  \n",
       "3  Компания FLEX — это инновационный онлайн-кинот...  \n",
       "4  Обязанности:  Поддержка и развитие чат-бота в ...  "
      ]
     },
     "execution_count": 586,
     "metadata": {},
     "output_type": "execute_result"
    }
   ],
   "source": [
    "vac.head()"
   ]
  },
  {
   "cell_type": "code",
   "execution_count": 587,
   "id": "a076ac06",
   "metadata": {},
   "outputs": [],
   "source": [
    "def neat_work_format(lst):\n",
    "    if not lst:  # пустой список\n",
    "        return 'не указано'\n",
    "    if len(lst) == 1:\n",
    "        if \"REMOTE\" in lst:\n",
    "            return 'удалённо'\n",
    "        elif \"ON_SITE\" in lst:\n",
    "            return 'в офисе'\n",
    "        elif \"FIELD_WORK\" in lst:\n",
    "            return 'выездная работа'\n",
    "    if 'HYBRID' in lst and 'FIELD_WORK' not in lst:\n",
    "        return 'гибрид'\n",
    "    if 'FIELD_WORK' in lst:\n",
    "        return 'выездная работа'\n",
    "    return 'не указано'\n"
   ]
  },
  {
   "cell_type": "code",
   "execution_count": 588,
   "id": "495a3a28",
   "metadata": {},
   "outputs": [
    {
     "data": {
      "text/html": [
       "<div>\n",
       "<style scoped>\n",
       "    .dataframe tbody tr th:only-of-type {\n",
       "        vertical-align: middle;\n",
       "    }\n",
       "\n",
       "    .dataframe tbody tr th {\n",
       "        vertical-align: top;\n",
       "    }\n",
       "\n",
       "    .dataframe thead th {\n",
       "        text-align: right;\n",
       "    }\n",
       "</style>\n",
       "<table border=\"1\" class=\"dataframe\">\n",
       "  <thead>\n",
       "    <tr style=\"text-align: right;\">\n",
       "      <th></th>\n",
       "      <th>id</th>\n",
       "      <th>name</th>\n",
       "      <th>group</th>\n",
       "      <th>city</th>\n",
       "      <th>salary_from</th>\n",
       "      <th>salary_to</th>\n",
       "      <th>mid_salary</th>\n",
       "      <th>employer</th>\n",
       "      <th>work_format</th>\n",
       "      <th>experience</th>\n",
       "      <th>key_skills</th>\n",
       "      <th>description</th>\n",
       "    </tr>\n",
       "  </thead>\n",
       "  <tbody>\n",
       "    <tr>\n",
       "      <th>0</th>\n",
       "      <td>126298182</td>\n",
       "      <td>Системный/бизнес аналитик (стажер)</td>\n",
       "      <td>Системный аналитик</td>\n",
       "      <td>Казань</td>\n",
       "      <td>23200.0</td>\n",
       "      <td>23200.0</td>\n",
       "      <td>23200.0</td>\n",
       "      <td>icl services</td>\n",
       "      <td>удалённо</td>\n",
       "      <td>Нет опыта</td>\n",
       "      <td>['Аналитическое мышление', 'Системный анализ',...</td>\n",
       "      <td>Мы – российская продуктово-сервисная ИТ-компан...</td>\n",
       "    </tr>\n",
       "    <tr>\n",
       "      <th>1</th>\n",
       "      <td>126267340</td>\n",
       "      <td>Разработчик</td>\n",
       "      <td>Программист, разработчик</td>\n",
       "      <td>Казань</td>\n",
       "      <td>175500.0</td>\n",
       "      <td>175500.0</td>\n",
       "      <td>175500.0</td>\n",
       "      <td>таттелеком</td>\n",
       "      <td>в офисе</td>\n",
       "      <td>От 1 года до 3 лет</td>\n",
       "      <td>[]</td>\n",
       "      <td>ПАО «Таттелеком» — один из ключевых операторов...</td>\n",
       "    </tr>\n",
       "    <tr>\n",
       "      <th>2</th>\n",
       "      <td>126319001</td>\n",
       "      <td>QA-инженер (senior)</td>\n",
       "      <td>Тестировщик</td>\n",
       "      <td>Казань</td>\n",
       "      <td>150000.0</td>\n",
       "      <td>170000.0</td>\n",
       "      <td>160000.0</td>\n",
       "      <td>innostage</td>\n",
       "      <td>удалённо</td>\n",
       "      <td>От 3 до 6 лет</td>\n",
       "      <td>['REST', 'SOAP', 'SQL', 'Git', 'Ручное тестиро...</td>\n",
       "      <td>Компания Innostage (Инностейдж) - IT компания,...</td>\n",
       "    </tr>\n",
       "    <tr>\n",
       "      <th>3</th>\n",
       "      <td>126271542</td>\n",
       "      <td>Дизайнер интерфейсов</td>\n",
       "      <td>Дизайнер, художник</td>\n",
       "      <td>Казань</td>\n",
       "      <td>140000.0</td>\n",
       "      <td>150000.0</td>\n",
       "      <td>145000.0</td>\n",
       "      <td>кинофлекс</td>\n",
       "      <td>удалённо</td>\n",
       "      <td>От 1 года до 3 лет</td>\n",
       "      <td>['Figma', 'UI', 'UX']</td>\n",
       "      <td>Компания FLEX — это инновационный онлайн-кинот...</td>\n",
       "    </tr>\n",
       "    <tr>\n",
       "      <th>4</th>\n",
       "      <td>126243205</td>\n",
       "      <td>Junior Backend Engineer AI</td>\n",
       "      <td>Программист, разработчик</td>\n",
       "      <td>Казань</td>\n",
       "      <td>60000.0</td>\n",
       "      <td>80000.0</td>\n",
       "      <td>70000.0</td>\n",
       "      <td>первый бит</td>\n",
       "      <td>не указано</td>\n",
       "      <td>От 1 года до 3 лет</td>\n",
       "      <td>['Python', 'Docker', 'SQL', 'FastAPI']</td>\n",
       "      <td>Обязанности:  Поддержка и развитие чат-бота в ...</td>\n",
       "    </tr>\n",
       "  </tbody>\n",
       "</table>\n",
       "</div>"
      ],
      "text/plain": [
       "          id                                name                     group  \\\n",
       "0  126298182  Системный/бизнес аналитик (стажер)        Системный аналитик   \n",
       "1  126267340                         Разработчик  Программист, разработчик   \n",
       "2  126319001                 QA-инженер (senior)               Тестировщик   \n",
       "3  126271542                Дизайнер интерфейсов        Дизайнер, художник   \n",
       "4  126243205          Junior Backend Engineer AI  Программист, разработчик   \n",
       "\n",
       "     city  salary_from  salary_to  mid_salary      employer work_format  \\\n",
       "0  Казань      23200.0    23200.0     23200.0  icl services    удалённо   \n",
       "1  Казань     175500.0   175500.0    175500.0    таттелеком     в офисе   \n",
       "2  Казань     150000.0   170000.0    160000.0     innostage    удалённо   \n",
       "3  Казань     140000.0   150000.0    145000.0     кинофлекс    удалённо   \n",
       "4  Казань      60000.0    80000.0     70000.0    первый бит  не указано   \n",
       "\n",
       "           experience                                         key_skills  \\\n",
       "0           Нет опыта  ['Аналитическое мышление', 'Системный анализ',...   \n",
       "1  От 1 года до 3 лет                                                 []   \n",
       "2       От 3 до 6 лет  ['REST', 'SOAP', 'SQL', 'Git', 'Ручное тестиро...   \n",
       "3  От 1 года до 3 лет                              ['Figma', 'UI', 'UX']   \n",
       "4  От 1 года до 3 лет             ['Python', 'Docker', 'SQL', 'FastAPI']   \n",
       "\n",
       "                                         description  \n",
       "0  Мы – российская продуктово-сервисная ИТ-компан...  \n",
       "1  ПАО «Таттелеком» — один из ключевых операторов...  \n",
       "2  Компания Innostage (Инностейдж) - IT компания,...  \n",
       "3  Компания FLEX — это инновационный онлайн-кинот...  \n",
       "4  Обязанности:  Поддержка и развитие чат-бота в ...  "
      ]
     },
     "execution_count": 588,
     "metadata": {},
     "output_type": "execute_result"
    }
   ],
   "source": [
    "vac['work_format'] = vac['work_format'].apply(neat_work_format)\n",
    "vac.head()"
   ]
  },
  {
   "cell_type": "code",
   "execution_count": 589,
   "id": "57e51257",
   "metadata": {},
   "outputs": [
    {
     "data": {
      "text/plain": [
       "work_format\n",
       "удалённо           717\n",
       "гибрид             541\n",
       "в офисе            512\n",
       "не указано         224\n",
       "выездная работа     62\n",
       "Name: count, dtype: int64"
      ]
     },
     "execution_count": 589,
     "metadata": {},
     "output_type": "execute_result"
    }
   ],
   "source": [
    "vac['work_format'].value_counts()"
   ]
  },
  {
   "cell_type": "code",
   "execution_count": 590,
   "id": "f3a20eb8",
   "metadata": {},
   "outputs": [],
   "source": [
    "vac = vac[vac['work_format'] != 'выездная работа']"
   ]
  },
  {
   "cell_type": "code",
   "execution_count": 591,
   "id": "67bea956",
   "metadata": {},
   "outputs": [
    {
     "data": {
      "text/plain": [
       "(1994, 12)"
      ]
     },
     "execution_count": 591,
     "metadata": {},
     "output_type": "execute_result"
    }
   ],
   "source": [
    "vac.shape"
   ]
  },
  {
   "cell_type": "markdown",
   "id": "2a0af92a",
   "metadata": {},
   "source": [
    "# Обработка опыта"
   ]
  },
  {
   "cell_type": "code",
   "execution_count": 592,
   "id": "e9f1aa8c",
   "metadata": {},
   "outputs": [
    {
     "data": {
      "text/html": [
       "<div>\n",
       "<style scoped>\n",
       "    .dataframe tbody tr th:only-of-type {\n",
       "        vertical-align: middle;\n",
       "    }\n",
       "\n",
       "    .dataframe tbody tr th {\n",
       "        vertical-align: top;\n",
       "    }\n",
       "\n",
       "    .dataframe thead th {\n",
       "        text-align: right;\n",
       "    }\n",
       "</style>\n",
       "<table border=\"1\" class=\"dataframe\">\n",
       "  <thead>\n",
       "    <tr style=\"text-align: right;\">\n",
       "      <th></th>\n",
       "      <th>id</th>\n",
       "      <th>name</th>\n",
       "      <th>group</th>\n",
       "      <th>city</th>\n",
       "      <th>salary_from</th>\n",
       "      <th>salary_to</th>\n",
       "      <th>mid_salary</th>\n",
       "      <th>employer</th>\n",
       "      <th>work_format</th>\n",
       "      <th>experience</th>\n",
       "      <th>key_skills</th>\n",
       "      <th>description</th>\n",
       "    </tr>\n",
       "  </thead>\n",
       "  <tbody>\n",
       "    <tr>\n",
       "      <th>0</th>\n",
       "      <td>126298182</td>\n",
       "      <td>Системный/бизнес аналитик (стажер)</td>\n",
       "      <td>Системный аналитик</td>\n",
       "      <td>Казань</td>\n",
       "      <td>23200.0</td>\n",
       "      <td>23200.0</td>\n",
       "      <td>23200.0</td>\n",
       "      <td>icl services</td>\n",
       "      <td>удалённо</td>\n",
       "      <td>Нет опыта</td>\n",
       "      <td>['Аналитическое мышление', 'Системный анализ',...</td>\n",
       "      <td>Мы – российская продуктово-сервисная ИТ-компан...</td>\n",
       "    </tr>\n",
       "    <tr>\n",
       "      <th>1</th>\n",
       "      <td>126267340</td>\n",
       "      <td>Разработчик</td>\n",
       "      <td>Программист, разработчик</td>\n",
       "      <td>Казань</td>\n",
       "      <td>175500.0</td>\n",
       "      <td>175500.0</td>\n",
       "      <td>175500.0</td>\n",
       "      <td>таттелеком</td>\n",
       "      <td>в офисе</td>\n",
       "      <td>От 1 года до 3 лет</td>\n",
       "      <td>[]</td>\n",
       "      <td>ПАО «Таттелеком» — один из ключевых операторов...</td>\n",
       "    </tr>\n",
       "    <tr>\n",
       "      <th>2</th>\n",
       "      <td>126319001</td>\n",
       "      <td>QA-инженер (senior)</td>\n",
       "      <td>Тестировщик</td>\n",
       "      <td>Казань</td>\n",
       "      <td>150000.0</td>\n",
       "      <td>170000.0</td>\n",
       "      <td>160000.0</td>\n",
       "      <td>innostage</td>\n",
       "      <td>удалённо</td>\n",
       "      <td>От 3 до 6 лет</td>\n",
       "      <td>['REST', 'SOAP', 'SQL', 'Git', 'Ручное тестиро...</td>\n",
       "      <td>Компания Innostage (Инностейдж) - IT компания,...</td>\n",
       "    </tr>\n",
       "    <tr>\n",
       "      <th>3</th>\n",
       "      <td>126271542</td>\n",
       "      <td>Дизайнер интерфейсов</td>\n",
       "      <td>Дизайнер, художник</td>\n",
       "      <td>Казань</td>\n",
       "      <td>140000.0</td>\n",
       "      <td>150000.0</td>\n",
       "      <td>145000.0</td>\n",
       "      <td>кинофлекс</td>\n",
       "      <td>удалённо</td>\n",
       "      <td>От 1 года до 3 лет</td>\n",
       "      <td>['Figma', 'UI', 'UX']</td>\n",
       "      <td>Компания FLEX — это инновационный онлайн-кинот...</td>\n",
       "    </tr>\n",
       "    <tr>\n",
       "      <th>4</th>\n",
       "      <td>126243205</td>\n",
       "      <td>Junior Backend Engineer AI</td>\n",
       "      <td>Программист, разработчик</td>\n",
       "      <td>Казань</td>\n",
       "      <td>60000.0</td>\n",
       "      <td>80000.0</td>\n",
       "      <td>70000.0</td>\n",
       "      <td>первый бит</td>\n",
       "      <td>не указано</td>\n",
       "      <td>От 1 года до 3 лет</td>\n",
       "      <td>['Python', 'Docker', 'SQL', 'FastAPI']</td>\n",
       "      <td>Обязанности:  Поддержка и развитие чат-бота в ...</td>\n",
       "    </tr>\n",
       "  </tbody>\n",
       "</table>\n",
       "</div>"
      ],
      "text/plain": [
       "          id                                name                     group  \\\n",
       "0  126298182  Системный/бизнес аналитик (стажер)        Системный аналитик   \n",
       "1  126267340                         Разработчик  Программист, разработчик   \n",
       "2  126319001                 QA-инженер (senior)               Тестировщик   \n",
       "3  126271542                Дизайнер интерфейсов        Дизайнер, художник   \n",
       "4  126243205          Junior Backend Engineer AI  Программист, разработчик   \n",
       "\n",
       "     city  salary_from  salary_to  mid_salary      employer work_format  \\\n",
       "0  Казань      23200.0    23200.0     23200.0  icl services    удалённо   \n",
       "1  Казань     175500.0   175500.0    175500.0    таттелеком     в офисе   \n",
       "2  Казань     150000.0   170000.0    160000.0     innostage    удалённо   \n",
       "3  Казань     140000.0   150000.0    145000.0     кинофлекс    удалённо   \n",
       "4  Казань      60000.0    80000.0     70000.0    первый бит  не указано   \n",
       "\n",
       "           experience                                         key_skills  \\\n",
       "0           Нет опыта  ['Аналитическое мышление', 'Системный анализ',...   \n",
       "1  От 1 года до 3 лет                                                 []   \n",
       "2       От 3 до 6 лет  ['REST', 'SOAP', 'SQL', 'Git', 'Ручное тестиро...   \n",
       "3  От 1 года до 3 лет                              ['Figma', 'UI', 'UX']   \n",
       "4  От 1 года до 3 лет             ['Python', 'Docker', 'SQL', 'FastAPI']   \n",
       "\n",
       "                                         description  \n",
       "0  Мы – российская продуктово-сервисная ИТ-компан...  \n",
       "1  ПАО «Таттелеком» — один из ключевых операторов...  \n",
       "2  Компания Innostage (Инностейдж) - IT компания,...  \n",
       "3  Компания FLEX — это инновационный онлайн-кинот...  \n",
       "4  Обязанности:  Поддержка и развитие чат-бота в ...  "
      ]
     },
     "execution_count": 592,
     "metadata": {},
     "output_type": "execute_result"
    }
   ],
   "source": [
    "vac.head()"
   ]
  },
  {
   "cell_type": "code",
   "execution_count": 593,
   "id": "60415d83",
   "metadata": {},
   "outputs": [
    {
     "data": {
      "text/html": [
       "<div>\n",
       "<style scoped>\n",
       "    .dataframe tbody tr th:only-of-type {\n",
       "        vertical-align: middle;\n",
       "    }\n",
       "\n",
       "    .dataframe tbody tr th {\n",
       "        vertical-align: top;\n",
       "    }\n",
       "\n",
       "    .dataframe thead th {\n",
       "        text-align: right;\n",
       "    }\n",
       "</style>\n",
       "<table border=\"1\" class=\"dataframe\">\n",
       "  <thead>\n",
       "    <tr style=\"text-align: right;\">\n",
       "      <th></th>\n",
       "      <th>id</th>\n",
       "      <th>name</th>\n",
       "      <th>group</th>\n",
       "      <th>city</th>\n",
       "      <th>salary_from</th>\n",
       "      <th>salary_to</th>\n",
       "      <th>mid_salary</th>\n",
       "      <th>employer</th>\n",
       "      <th>work_format</th>\n",
       "      <th>experience</th>\n",
       "      <th>key_skills</th>\n",
       "      <th>description</th>\n",
       "    </tr>\n",
       "  </thead>\n",
       "  <tbody>\n",
       "    <tr>\n",
       "      <th>0</th>\n",
       "      <td>126298182</td>\n",
       "      <td>Системный/бизнес аналитик (стажер)</td>\n",
       "      <td>Системный аналитик</td>\n",
       "      <td>Казань</td>\n",
       "      <td>23200.0</td>\n",
       "      <td>23200.0</td>\n",
       "      <td>23200.0</td>\n",
       "      <td>icl services</td>\n",
       "      <td>удалённо</td>\n",
       "      <td>нет опыта</td>\n",
       "      <td>['Аналитическое мышление', 'Системный анализ',...</td>\n",
       "      <td>Мы – российская продуктово-сервисная ИТ-компан...</td>\n",
       "    </tr>\n",
       "    <tr>\n",
       "      <th>1</th>\n",
       "      <td>126267340</td>\n",
       "      <td>Разработчик</td>\n",
       "      <td>Программист, разработчик</td>\n",
       "      <td>Казань</td>\n",
       "      <td>175500.0</td>\n",
       "      <td>175500.0</td>\n",
       "      <td>175500.0</td>\n",
       "      <td>таттелеком</td>\n",
       "      <td>в офисе</td>\n",
       "      <td>от 1 года до 3 лет</td>\n",
       "      <td>[]</td>\n",
       "      <td>ПАО «Таттелеком» — один из ключевых операторов...</td>\n",
       "    </tr>\n",
       "    <tr>\n",
       "      <th>2</th>\n",
       "      <td>126319001</td>\n",
       "      <td>QA-инженер (senior)</td>\n",
       "      <td>Тестировщик</td>\n",
       "      <td>Казань</td>\n",
       "      <td>150000.0</td>\n",
       "      <td>170000.0</td>\n",
       "      <td>160000.0</td>\n",
       "      <td>innostage</td>\n",
       "      <td>удалённо</td>\n",
       "      <td>от 3 до 6 лет</td>\n",
       "      <td>['REST', 'SOAP', 'SQL', 'Git', 'Ручное тестиро...</td>\n",
       "      <td>Компания Innostage (Инностейдж) - IT компания,...</td>\n",
       "    </tr>\n",
       "    <tr>\n",
       "      <th>3</th>\n",
       "      <td>126271542</td>\n",
       "      <td>Дизайнер интерфейсов</td>\n",
       "      <td>Дизайнер, художник</td>\n",
       "      <td>Казань</td>\n",
       "      <td>140000.0</td>\n",
       "      <td>150000.0</td>\n",
       "      <td>145000.0</td>\n",
       "      <td>кинофлекс</td>\n",
       "      <td>удалённо</td>\n",
       "      <td>от 1 года до 3 лет</td>\n",
       "      <td>['Figma', 'UI', 'UX']</td>\n",
       "      <td>Компания FLEX — это инновационный онлайн-кинот...</td>\n",
       "    </tr>\n",
       "    <tr>\n",
       "      <th>4</th>\n",
       "      <td>126243205</td>\n",
       "      <td>Junior Backend Engineer AI</td>\n",
       "      <td>Программист, разработчик</td>\n",
       "      <td>Казань</td>\n",
       "      <td>60000.0</td>\n",
       "      <td>80000.0</td>\n",
       "      <td>70000.0</td>\n",
       "      <td>первый бит</td>\n",
       "      <td>не указано</td>\n",
       "      <td>от 1 года до 3 лет</td>\n",
       "      <td>['Python', 'Docker', 'SQL', 'FastAPI']</td>\n",
       "      <td>Обязанности:  Поддержка и развитие чат-бота в ...</td>\n",
       "    </tr>\n",
       "  </tbody>\n",
       "</table>\n",
       "</div>"
      ],
      "text/plain": [
       "          id                                name                     group  \\\n",
       "0  126298182  Системный/бизнес аналитик (стажер)        Системный аналитик   \n",
       "1  126267340                         Разработчик  Программист, разработчик   \n",
       "2  126319001                 QA-инженер (senior)               Тестировщик   \n",
       "3  126271542                Дизайнер интерфейсов        Дизайнер, художник   \n",
       "4  126243205          Junior Backend Engineer AI  Программист, разработчик   \n",
       "\n",
       "     city  salary_from  salary_to  mid_salary      employer work_format  \\\n",
       "0  Казань      23200.0    23200.0     23200.0  icl services    удалённо   \n",
       "1  Казань     175500.0   175500.0    175500.0    таттелеком     в офисе   \n",
       "2  Казань     150000.0   170000.0    160000.0     innostage    удалённо   \n",
       "3  Казань     140000.0   150000.0    145000.0     кинофлекс    удалённо   \n",
       "4  Казань      60000.0    80000.0     70000.0    первый бит  не указано   \n",
       "\n",
       "           experience                                         key_skills  \\\n",
       "0           нет опыта  ['Аналитическое мышление', 'Системный анализ',...   \n",
       "1  от 1 года до 3 лет                                                 []   \n",
       "2       от 3 до 6 лет  ['REST', 'SOAP', 'SQL', 'Git', 'Ручное тестиро...   \n",
       "3  от 1 года до 3 лет                              ['Figma', 'UI', 'UX']   \n",
       "4  от 1 года до 3 лет             ['Python', 'Docker', 'SQL', 'FastAPI']   \n",
       "\n",
       "                                         description  \n",
       "0  Мы – российская продуктово-сервисная ИТ-компан...  \n",
       "1  ПАО «Таттелеком» — один из ключевых операторов...  \n",
       "2  Компания Innostage (Инностейдж) - IT компания,...  \n",
       "3  Компания FLEX — это инновационный онлайн-кинот...  \n",
       "4  Обязанности:  Поддержка и развитие чат-бота в ...  "
      ]
     },
     "execution_count": 593,
     "metadata": {},
     "output_type": "execute_result"
    }
   ],
   "source": [
    "vac['experience'] = vac['experience'].str.lower()\n",
    "vac.head()"
   ]
  },
  {
   "cell_type": "code",
   "execution_count": 594,
   "id": "86fed27d",
   "metadata": {},
   "outputs": [],
   "source": [
    "def grade_col(text):\n",
    "    text = text.lower().strip()\n",
    "    if text == 'нет опыта':\n",
    "        return 'стажёр/junior'\n",
    "    elif text == 'от 1 года до 3 лет':\n",
    "        return 'junior+/middle'\n",
    "    else:\n",
    "        return 'middle+/senior'\n",
    "\n",
    "vac['grade'] = vac['experience'].apply(grade_col)\n"
   ]
  },
  {
   "cell_type": "markdown",
   "id": "cd75d791",
   "metadata": {},
   "source": [
    "# Обработка ключевых навыков"
   ]
  },
  {
   "cell_type": "code",
   "execution_count": 595,
   "id": "9e838fb6",
   "metadata": {},
   "outputs": [
    {
     "data": {
      "text/plain": [
       "['Аналитическое мышление', 'Системный анализ', 'Бизнес-анализ']"
      ]
     },
     "execution_count": 595,
     "metadata": {},
     "output_type": "execute_result"
    }
   ],
   "source": [
    "import ast  # приведём навыки к списку\n",
    "\n",
    "def parse_skills(text):\n",
    "    try:\n",
    "        return ast.literal_eval(text)\n",
    "    except (ValueError, SyntaxError):\n",
    "        return []\n",
    "\n",
    "vac['key_skills'] = vac['key_skills'].apply(parse_skills)\n",
    "vac['key_skills'].iloc[0]"
   ]
  },
  {
   "cell_type": "code",
   "execution_count": 596,
   "id": "2a7d9110",
   "metadata": {},
   "outputs": [
    {
     "data": {
      "text/plain": [
       "[]"
      ]
     },
     "execution_count": 596,
     "metadata": {},
     "output_type": "execute_result"
    }
   ],
   "source": [
    "# Теперь необходимо определить самые частотные навыки по роли и заполнить ими пустые списки\n",
    "vac['key_skills'].iloc[6]"
   ]
  },
  {
   "cell_type": "code",
   "execution_count": 597,
   "id": "6fe47a88",
   "metadata": {},
   "outputs": [],
   "source": [
    "# Будем брать топ-5 навыков\n",
    "top_skills_group = {}\n",
    "\n",
    "for group, group_df in vac.groupby('group'):\n",
    "    all_skills = sum(group_df['key_skills'].to_list(), [])\n",
    "    # Создаём объект счётчика\n",
    "    skill_counts = Counter(all_skills)\n",
    "    # CСобираем топ-скиллы\n",
    "    top_skills = [skill for skill, count in skill_counts.most_common(5)]\n",
    "    top_skills_group[group] = top_skills\n",
    "\n",
    "# Напишем функцию для заполнения пустых списков навыков по ролям\n",
    "def fill_empty_skills(row):\n",
    "    if isinstance(row['key_skills'], list) and len(row['key_skills'])== 0:\n",
    "        # Заполняем значениями и меняем дефолт с None на пустой список\n",
    "        return top_skills_group.get(row['group'], [])\n",
    "    else:\n",
    "        return row['key_skills']\n",
    "\n",
    "# Применяем функцию\n",
    "vac['key_skills'] = vac.apply(fill_empty_skills, axis=1)"
   ]
  },
  {
   "cell_type": "code",
   "execution_count": 598,
   "id": "24ec52d0",
   "metadata": {},
   "outputs": [],
   "source": [
    "# По ходу обработки я понял, что столбец описания не понадобится, так что удалим его\n",
    "vac.drop(columns=['description'], inplace=True)"
   ]
  },
  {
   "cell_type": "markdown",
   "id": "d5f0046b",
   "metadata": {},
   "source": [
    "# Обработка названий"
   ]
  },
  {
   "cell_type": "code",
   "execution_count": 599,
   "id": "525c5598",
   "metadata": {},
   "outputs": [],
   "source": [
    "# Удалим грейды и всё, что в скобках\n",
    "\n",
    "grades = [\n",
    "    'intern',\n",
    "    'junior',\n",
    "    'juniormiddle',\n",
    "    'lead',\n",
    "    'middle',\n",
    "    'middle senior',\n",
    "    'senior',\n",
    "    'teamlead',\n",
    "    'trainee',\n",
    "    'ведущий',\n",
    "    'главный',\n",
    "    'младший',\n",
    "    'начинающий',\n",
    "    'стажер',\n",
    "    'стажёр',\n",
    "    'тимлид',\n",
    "]\n",
    "\n",
    "def clean_grades_and_parentheses(series, grades_list):\n",
    "    pattern_grades = r'\\b(?:' + '|'.join(re.escape(g) for g in grades_list) + r')\\b'\n",
    "    pattern_parentheses = r'\\([^)]*\\)'\n",
    "\n",
    "    def clean_text(text):\n",
    "        if not isinstance(text, str):\n",
    "            return text\n",
    "        # Удаляем скобки и содержимое\n",
    "        text = re.sub(pattern_parentheses, '', text)\n",
    "        # Удаляем грейды\n",
    "        text = re.sub(pattern_grades, '', text, flags=re.IGNORECASE)\n",
    "        # Убираем лишние пробелы\n",
    "        text = re.sub(r'\\s+', ' ', text).strip()\n",
    "        return text\n",
    "\n",
    "    return series.apply(clean_text)\n",
    "\n",
    "vac['name'] = clean_grades_and_parentheses(vac['name'], grades)\n"
   ]
  },
  {
   "cell_type": "markdown",
   "id": "86041e64",
   "metadata": {},
   "source": [
    "# Сохранение очищенных данных"
   ]
  },
  {
   "cell_type": "code",
   "execution_count": 602,
   "id": "9effe700",
   "metadata": {},
   "outputs": [
    {
     "data": {
      "text/html": [
       "<div>\n",
       "<style scoped>\n",
       "    .dataframe tbody tr th:only-of-type {\n",
       "        vertical-align: middle;\n",
       "    }\n",
       "\n",
       "    .dataframe tbody tr th {\n",
       "        vertical-align: top;\n",
       "    }\n",
       "\n",
       "    .dataframe thead th {\n",
       "        text-align: right;\n",
       "    }\n",
       "</style>\n",
       "<table border=\"1\" class=\"dataframe\">\n",
       "  <thead>\n",
       "    <tr style=\"text-align: right;\">\n",
       "      <th></th>\n",
       "      <th>id</th>\n",
       "      <th>name</th>\n",
       "      <th>group</th>\n",
       "      <th>city</th>\n",
       "      <th>salary_from</th>\n",
       "      <th>salary_to</th>\n",
       "      <th>mid_salary</th>\n",
       "      <th>employer</th>\n",
       "      <th>work_format</th>\n",
       "      <th>experience</th>\n",
       "      <th>key_skills</th>\n",
       "      <th>grade</th>\n",
       "    </tr>\n",
       "  </thead>\n",
       "  <tbody>\n",
       "    <tr>\n",
       "      <th>0</th>\n",
       "      <td>126298182</td>\n",
       "      <td>Системный/бизнес аналитик</td>\n",
       "      <td>Системный аналитик</td>\n",
       "      <td>Казань</td>\n",
       "      <td>23200.0</td>\n",
       "      <td>23200.0</td>\n",
       "      <td>23200.0</td>\n",
       "      <td>icl services</td>\n",
       "      <td>удалённо</td>\n",
       "      <td>нет опыта</td>\n",
       "      <td>[Аналитическое мышление, Системный анализ, Биз...</td>\n",
       "      <td>стажёр/junior</td>\n",
       "    </tr>\n",
       "    <tr>\n",
       "      <th>1</th>\n",
       "      <td>126267340</td>\n",
       "      <td>Разработчик</td>\n",
       "      <td>Программист, разработчик</td>\n",
       "      <td>Казань</td>\n",
       "      <td>175500.0</td>\n",
       "      <td>175500.0</td>\n",
       "      <td>175500.0</td>\n",
       "      <td>таттелеком</td>\n",
       "      <td>в офисе</td>\n",
       "      <td>от 1 года до 3 лет</td>\n",
       "      <td>[Git, PostgreSQL, JavaScript, SQL, Linux]</td>\n",
       "      <td>junior+/middle</td>\n",
       "    </tr>\n",
       "    <tr>\n",
       "      <th>2</th>\n",
       "      <td>126319001</td>\n",
       "      <td>QA-инженер</td>\n",
       "      <td>Тестировщик</td>\n",
       "      <td>Казань</td>\n",
       "      <td>150000.0</td>\n",
       "      <td>170000.0</td>\n",
       "      <td>160000.0</td>\n",
       "      <td>innostage</td>\n",
       "      <td>удалённо</td>\n",
       "      <td>от 3 до 6 лет</td>\n",
       "      <td>[REST, SOAP, SQL, Git, Ручное тестирование, Ag...</td>\n",
       "      <td>middle+/senior</td>\n",
       "    </tr>\n",
       "    <tr>\n",
       "      <th>3</th>\n",
       "      <td>126271542</td>\n",
       "      <td>Дизайнер интерфейсов</td>\n",
       "      <td>Дизайнер, художник</td>\n",
       "      <td>Казань</td>\n",
       "      <td>140000.0</td>\n",
       "      <td>150000.0</td>\n",
       "      <td>145000.0</td>\n",
       "      <td>кинофлекс</td>\n",
       "      <td>удалённо</td>\n",
       "      <td>от 1 года до 3 лет</td>\n",
       "      <td>[Figma, UI, UX]</td>\n",
       "      <td>junior+/middle</td>\n",
       "    </tr>\n",
       "    <tr>\n",
       "      <th>4</th>\n",
       "      <td>126243205</td>\n",
       "      <td>Backend Engineer AI</td>\n",
       "      <td>Программист, разработчик</td>\n",
       "      <td>Казань</td>\n",
       "      <td>60000.0</td>\n",
       "      <td>80000.0</td>\n",
       "      <td>70000.0</td>\n",
       "      <td>первый бит</td>\n",
       "      <td>не указано</td>\n",
       "      <td>от 1 года до 3 лет</td>\n",
       "      <td>[Python, Docker, SQL, FastAPI]</td>\n",
       "      <td>junior+/middle</td>\n",
       "    </tr>\n",
       "  </tbody>\n",
       "</table>\n",
       "</div>"
      ],
      "text/plain": [
       "          id                       name                     group    city  \\\n",
       "0  126298182  Системный/бизнес аналитик        Системный аналитик  Казань   \n",
       "1  126267340                Разработчик  Программист, разработчик  Казань   \n",
       "2  126319001                 QA-инженер               Тестировщик  Казань   \n",
       "3  126271542       Дизайнер интерфейсов        Дизайнер, художник  Казань   \n",
       "4  126243205        Backend Engineer AI  Программист, разработчик  Казань   \n",
       "\n",
       "   salary_from  salary_to  mid_salary      employer work_format  \\\n",
       "0      23200.0    23200.0     23200.0  icl services    удалённо   \n",
       "1     175500.0   175500.0    175500.0    таттелеком     в офисе   \n",
       "2     150000.0   170000.0    160000.0     innostage    удалённо   \n",
       "3     140000.0   150000.0    145000.0     кинофлекс    удалённо   \n",
       "4      60000.0    80000.0     70000.0    первый бит  не указано   \n",
       "\n",
       "           experience                                         key_skills  \\\n",
       "0           нет опыта  [Аналитическое мышление, Системный анализ, Биз...   \n",
       "1  от 1 года до 3 лет          [Git, PostgreSQL, JavaScript, SQL, Linux]   \n",
       "2       от 3 до 6 лет  [REST, SOAP, SQL, Git, Ручное тестирование, Ag...   \n",
       "3  от 1 года до 3 лет                                    [Figma, UI, UX]   \n",
       "4  от 1 года до 3 лет                     [Python, Docker, SQL, FastAPI]   \n",
       "\n",
       "            grade  \n",
       "0   стажёр/junior  \n",
       "1  junior+/middle  \n",
       "2  middle+/senior  \n",
       "3  junior+/middle  \n",
       "4  junior+/middle  "
      ]
     },
     "execution_count": 602,
     "metadata": {},
     "output_type": "execute_result"
    }
   ],
   "source": [
    "vac.head()"
   ]
  },
  {
   "cell_type": "code",
   "execution_count": 601,
   "id": "33846e13",
   "metadata": {},
   "outputs": [
    {
     "data": {
      "text/plain": [
       "(1994, 12)"
      ]
     },
     "execution_count": 601,
     "metadata": {},
     "output_type": "execute_result"
    }
   ],
   "source": [
    "vac.shape"
   ]
  },
  {
   "cell_type": "code",
   "execution_count": 603,
   "id": "bec74802",
   "metadata": {},
   "outputs": [
    {
     "name": "stderr",
     "output_type": "stream",
     "text": [
      "<>:1: SyntaxWarning: invalid escape sequence '\\R'\n",
      "<>:1: SyntaxWarning: invalid escape sequence '\\R'\n",
      "C:\\Users\\Artemis\\AppData\\Local\\Temp\\ipykernel_14348\\1414643131.py:1: SyntaxWarning: invalid escape sequence '\\R'\n",
      "  vac.to_excel('Z:\\Repos\\mlops2025\\hr_analytics\\data\\processed\\processed.xlsx', index=False)\n"
     ]
    }
   ],
   "source": [
    "vac.to_excel('Z:\\Repos\\mlops2025\\hr_analytics\\data\\processed\\processed.xlsx', index=False)"
   ]
  }
 ],
 "metadata": {
  "kernelspec": {
   "display_name": "Python 3",
   "language": "python",
   "name": "python3"
  },
  "language_info": {
   "codemirror_mode": {
    "name": "ipython",
    "version": 3
   },
   "file_extension": ".py",
   "mimetype": "text/x-python",
   "name": "python",
   "nbconvert_exporter": "python",
   "pygments_lexer": "ipython3",
   "version": "3.12.10"
  }
 },
 "nbformat": 4,
 "nbformat_minor": 5
}
